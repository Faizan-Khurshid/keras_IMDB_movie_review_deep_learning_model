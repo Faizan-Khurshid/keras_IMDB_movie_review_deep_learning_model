{
  "nbformat": 4,
  "nbformat_minor": 0,
  "metadata": {
    "colab": {
      "name": "Keras_IMDB_movie_review_model.ipynb",
      "provenance": []
    },
    "kernelspec": {
      "name": "python3",
      "display_name": "Python 3"
    },
    "language_info": {
      "name": "python"
    }
  },
  "cells": [
    {
      "cell_type": "code",
      "metadata": {
        "id": "4_c7hX90BGi7"
      },
      "source": [
        "from keras.datasets import reuters"
      ],
      "execution_count": 9,
      "outputs": []
    },
    {
      "cell_type": "code",
      "metadata": {
        "colab": {
          "base_uri": "https://localhost:8080/"
        },
        "id": "gjt1B__sBc0G",
        "outputId": "dd56cd91-8ec3-4a39-915d-4c06207720bf"
      },
      "source": [
        "(train_data, train_labels), (test_data, test_labels) = reuters.load_data(num_words=10000)"
      ],
      "execution_count": 10,
      "outputs": [
        {
          "output_type": "stream",
          "text": [
            "Downloading data from https://storage.googleapis.com/tensorflow/tf-keras-datasets/reuters.npz\n",
            "2113536/2110848 [==============================] - 0s 0us/step\n",
            "2121728/2110848 [==============================] - 0s 0us/step\n"
          ],
          "name": "stdout"
        },
        {
          "output_type": "stream",
          "text": [
            "/usr/local/lib/python3.7/dist-packages/keras/datasets/reuters.py:143: VisibleDeprecationWarning: Creating an ndarray from ragged nested sequences (which is a list-or-tuple of lists-or-tuples-or ndarrays with different lengths or shapes) is deprecated. If you meant to do this, you must specify 'dtype=object' when creating the ndarray\n",
            "  x_train, y_train = np.array(xs[:idx]), np.array(labels[:idx])\n",
            "/usr/local/lib/python3.7/dist-packages/keras/datasets/reuters.py:144: VisibleDeprecationWarning: Creating an ndarray from ragged nested sequences (which is a list-or-tuple of lists-or-tuples-or ndarrays with different lengths or shapes) is deprecated. If you meant to do this, you must specify 'dtype=object' when creating the ndarray\n",
            "  x_test, y_test = np.array(xs[idx:]), np.array(labels[idx:])\n"
          ],
          "name": "stderr"
        }
      ]
    },
    {
      "cell_type": "code",
      "metadata": {
        "colab": {
          "base_uri": "https://localhost:8080/"
        },
        "id": "l5_S0c5WCUEj",
        "outputId": "71a4c39a-1cb0-44dc-bd90-76866d6ff8cf"
      },
      "source": [
        "len(train_data)"
      ],
      "execution_count": 11,
      "outputs": [
        {
          "output_type": "execute_result",
          "data": {
            "text/plain": [
              "8982"
            ]
          },
          "metadata": {
            "tags": []
          },
          "execution_count": 11
        }
      ]
    },
    {
      "cell_type": "code",
      "metadata": {
        "colab": {
          "base_uri": "https://localhost:8080/"
        },
        "id": "bY85vAmyCazw",
        "outputId": "595216e5-fcfc-459b-81fc-eba25ab0be67"
      },
      "source": [
        " len(test_data)"
      ],
      "execution_count": 12,
      "outputs": [
        {
          "output_type": "execute_result",
          "data": {
            "text/plain": [
              "2246"
            ]
          },
          "metadata": {
            "tags": []
          },
          "execution_count": 12
        }
      ]
    },
    {
      "cell_type": "code",
      "metadata": {
        "colab": {
          "base_uri": "https://localhost:8080/"
        },
        "id": "xchEzWjPDJxq",
        "outputId": "e53f1bdb-2e71-40ec-c027-7f8737f91c09"
      },
      "source": [
        "train_data[10]"
      ],
      "execution_count": 13,
      "outputs": [
        {
          "output_type": "execute_result",
          "data": {
            "text/plain": [
              "[1,\n",
              " 245,\n",
              " 273,\n",
              " 207,\n",
              " 156,\n",
              " 53,\n",
              " 74,\n",
              " 160,\n",
              " 26,\n",
              " 14,\n",
              " 46,\n",
              " 296,\n",
              " 26,\n",
              " 39,\n",
              " 74,\n",
              " 2979,\n",
              " 3554,\n",
              " 14,\n",
              " 46,\n",
              " 4689,\n",
              " 4329,\n",
              " 86,\n",
              " 61,\n",
              " 3499,\n",
              " 4795,\n",
              " 14,\n",
              " 61,\n",
              " 451,\n",
              " 4329,\n",
              " 17,\n",
              " 12]"
            ]
          },
          "metadata": {
            "tags": []
          },
          "execution_count": 13
        }
      ]
    },
    {
      "cell_type": "code",
      "metadata": {
        "colab": {
          "base_uri": "https://localhost:8080/"
        },
        "id": "piQXeh9KEjMG",
        "outputId": "68ee139e-4816-44e1-995e-0033d23d46da"
      },
      "source": [
        "word_index = reuters.get_word_index()\n",
        "reverse_word_index = dict([(value, key) for (key, value) in word_index.items()])\n",
        "decoded_newswire = ' '.join([reverse_word_index.get(i - 3, '?') for i in train_data[0]])"
      ],
      "execution_count": 14,
      "outputs": [
        {
          "output_type": "stream",
          "text": [
            "Downloading data from https://storage.googleapis.com/tensorflow/tf-keras-datasets/reuters_word_index.json\n",
            "557056/550378 [==============================] - 0s 0us/step\n",
            "565248/550378 [==============================] - 0s 0us/step\n"
          ],
          "name": "stdout"
        }
      ]
    },
    {
      "cell_type": "code",
      "metadata": {
        "colab": {
          "base_uri": "https://localhost:8080/"
        },
        "id": "4VK8DedNCvVE",
        "outputId": "bb6d7bb5-bbb6-4a84-9bec-766c485f1ef2"
      },
      "source": [
        "train_labels[10]"
      ],
      "execution_count": 15,
      "outputs": [
        {
          "output_type": "execute_result",
          "data": {
            "text/plain": [
              "3"
            ]
          },
          "metadata": {
            "tags": []
          },
          "execution_count": 15
        }
      ]
    },
    {
      "cell_type": "code",
      "metadata": {
        "id": "I7G_JbC1DT07"
      },
      "source": [
        "import numpy as np\n",
        "def vectorize_sequences(sequences, dimension=10000):\n",
        "  results = np.zeros((len(sequences), dimension))\n",
        "  for i, sequence in enumerate(sequences):\n",
        "    results[i, sequence] = 1.\n",
        "  return results\n",
        "\n",
        "x_train = vectorize_sequences(train_data)\n",
        "x_test = vectorize_sequences(test_data)"
      ],
      "execution_count": 17,
      "outputs": []
    },
    {
      "cell_type": "code",
      "metadata": {
        "id": "Lsqd-O12DWbQ"
      },
      "source": [
        "from keras.utils.np_utils import to_categorical"
      ],
      "execution_count": 18,
      "outputs": []
    },
    {
      "cell_type": "code",
      "metadata": {
        "id": "eDrps1D5E-ml"
      },
      "source": [
        "one_hot_train_labels = to_categorical(train_labels)\n",
        "one_hot_test_labels = to_categorical(test_labels)"
      ],
      "execution_count": 19,
      "outputs": []
    },
    {
      "cell_type": "code",
      "metadata": {
        "id": "w_fDiIJeE_GN"
      },
      "source": [
        "from keras import models\n",
        "from keras import layers"
      ],
      "execution_count": 20,
      "outputs": []
    },
    {
      "cell_type": "code",
      "metadata": {
        "id": "q3gbB8LNFCyF"
      },
      "source": [
        "model = models.Sequential()\n",
        "model.add(layers.Dense(64, activation='relu', input_shape=(10000,)))\n",
        "model.add(layers.Dense(64, activation='relu'))\n",
        "model.add(layers.Dense(46, activation='softmax'))"
      ],
      "execution_count": 21,
      "outputs": []
    },
    {
      "cell_type": "code",
      "metadata": {
        "id": "EgFGUut8FDPr"
      },
      "source": [
        "model.compile(optimizer='rmsprop',\n",
        "loss='categorical_crossentropy',\n",
        "metrics=['accuracy'])"
      ],
      "execution_count": 22,
      "outputs": []
    },
    {
      "cell_type": "code",
      "metadata": {
        "id": "Fpm6E_XaFFa-"
      },
      "source": [
        "x_val = x_train[:1000]\n",
        "partial_x_train = x_train[1000:]\n",
        "y_val = one_hot_train_labels[:1000]\n",
        "partial_y_train = one_hot_train_labels[1000:]"
      ],
      "execution_count": 23,
      "outputs": []
    },
    {
      "cell_type": "code",
      "metadata": {
        "colab": {
          "base_uri": "https://localhost:8080/"
        },
        "id": "ojF9FJf-FJP4",
        "outputId": "afe23c5d-5be1-427a-9ea7-d20e4f101041"
      },
      "source": [
        "history = model.fit(partial_x_train,\n",
        "partial_y_train,\n",
        "epochs=20,\n",
        "batch_size=512,\n",
        "validation_data=(x_val, y_val))"
      ],
      "execution_count": 24,
      "outputs": [
        {
          "output_type": "stream",
          "text": [
            "Epoch 1/20\n",
            "16/16 [==============================] - 2s 49ms/step - loss: 3.1477 - accuracy: 0.4293 - val_loss: 1.7388 - val_accuracy: 0.6540\n",
            "Epoch 2/20\n",
            "16/16 [==============================] - 1s 31ms/step - loss: 1.5192 - accuracy: 0.6907 - val_loss: 1.3050 - val_accuracy: 0.7100\n",
            "Epoch 3/20\n",
            "16/16 [==============================] - 1s 33ms/step - loss: 1.0928 - accuracy: 0.7685 - val_loss: 1.1255 - val_accuracy: 0.7520\n",
            "Epoch 4/20\n",
            "16/16 [==============================] - 0s 31ms/step - loss: 0.8231 - accuracy: 0.8282 - val_loss: 1.0326 - val_accuracy: 0.7740\n",
            "Epoch 5/20\n",
            "16/16 [==============================] - 1s 32ms/step - loss: 0.6580 - accuracy: 0.8641 - val_loss: 0.9606 - val_accuracy: 0.7960\n",
            "Epoch 6/20\n",
            "16/16 [==============================] - 0s 30ms/step - loss: 0.5313 - accuracy: 0.8902 - val_loss: 0.9530 - val_accuracy: 0.8150\n",
            "Epoch 7/20\n",
            "16/16 [==============================] - 0s 31ms/step - loss: 0.4183 - accuracy: 0.9146 - val_loss: 0.9068 - val_accuracy: 0.8110\n",
            "Epoch 8/20\n",
            "16/16 [==============================] - 0s 31ms/step - loss: 0.3332 - accuracy: 0.9314 - val_loss: 0.9120 - val_accuracy: 0.8110\n",
            "Epoch 9/20\n",
            "16/16 [==============================] - 1s 32ms/step - loss: 0.2748 - accuracy: 0.9411 - val_loss: 0.9105 - val_accuracy: 0.8200\n",
            "Epoch 10/20\n",
            "16/16 [==============================] - 0s 31ms/step - loss: 0.2308 - accuracy: 0.9492 - val_loss: 0.9504 - val_accuracy: 0.8040\n",
            "Epoch 11/20\n",
            "16/16 [==============================] - 0s 31ms/step - loss: 0.2025 - accuracy: 0.9506 - val_loss: 0.9248 - val_accuracy: 0.8090\n",
            "Epoch 12/20\n",
            "16/16 [==============================] - 1s 31ms/step - loss: 0.1640 - accuracy: 0.9582 - val_loss: 0.9649 - val_accuracy: 0.8130\n",
            "Epoch 13/20\n",
            "16/16 [==============================] - 1s 32ms/step - loss: 0.1642 - accuracy: 0.9555 - val_loss: 1.0033 - val_accuracy: 0.7960\n",
            "Epoch 14/20\n",
            "16/16 [==============================] - 0s 31ms/step - loss: 0.1386 - accuracy: 0.9633 - val_loss: 1.0032 - val_accuracy: 0.8060\n",
            "Epoch 15/20\n",
            "16/16 [==============================] - 0s 31ms/step - loss: 0.1423 - accuracy: 0.9563 - val_loss: 1.0120 - val_accuracy: 0.8070\n",
            "Epoch 16/20\n",
            "16/16 [==============================] - 0s 31ms/step - loss: 0.1230 - accuracy: 0.9617 - val_loss: 1.0258 - val_accuracy: 0.8050\n",
            "Epoch 17/20\n",
            "16/16 [==============================] - 0s 31ms/step - loss: 0.1206 - accuracy: 0.9589 - val_loss: 1.0631 - val_accuracy: 0.8020\n",
            "Epoch 18/20\n",
            "16/16 [==============================] - 0s 29ms/step - loss: 0.1051 - accuracy: 0.9620 - val_loss: 1.0426 - val_accuracy: 0.8110\n",
            "Epoch 19/20\n",
            "16/16 [==============================] - 1s 32ms/step - loss: 0.1050 - accuracy: 0.9611 - val_loss: 1.0823 - val_accuracy: 0.8090\n",
            "Epoch 20/20\n",
            "16/16 [==============================] - 0s 30ms/step - loss: 0.0987 - accuracy: 0.9654 - val_loss: 1.1145 - val_accuracy: 0.8080\n"
          ],
          "name": "stdout"
        }
      ]
    },
    {
      "cell_type": "code",
      "metadata": {
        "colab": {
          "base_uri": "https://localhost:8080/",
          "height": 295
        },
        "id": "LCbpVb4HFLHA",
        "outputId": "619ba524-e349-413e-8f16-c202bca82b50"
      },
      "source": [
        "import matplotlib.pyplot as plt\n",
        "loss = history.history['loss']\n",
        "val_loss = history.history['val_loss']\n",
        "epochs = range(1, len(loss) + 1)\n",
        "plt.plot(epochs, loss, 'bo', label='Training loss')\n",
        "plt.plot(epochs, val_loss, 'b', label='Validation loss')\n",
        "plt.title('Training and validation loss')\n",
        "plt.xlabel('Epochs')\n",
        "plt.ylabel('Loss')\n",
        "plt.legend()\n",
        "plt.show()"
      ],
      "execution_count": 25,
      "outputs": [
        {
          "output_type": "display_data",
          "data": {
            "image/png": "[encoded data removed]",
            "text/plain": [
              "<Figure size 432x288 with 1 Axes>"
            ]
          },
          "metadata": {
            "tags": [],
            "needs_background": "light"
          }
        }
      ]
    },
    {
      "cell_type": "code",
      "metadata": {
        "colab": {
          "base_uri": "https://localhost:8080/",
          "height": 295
        },
        "id": "vp83GD53FRO8",
        "outputId": "3689e1d2-8436-4f77-c3ba-ce669be85d0d"
      },
      "source": [
        "plt.clf()\n",
        "acc = history.history['accuracy']\n",
        "val_acc = history.history['val_accuracy']\n",
        "plt.plot(epochs, acc, 'bo', label='Training acc')\n",
        "plt.plot(epochs, val_acc, 'b', label='Validation acc')\n",
        "plt.title('Training and validation accuracy')\n",
        "plt.xlabel('Epochs')\n",
        "plt.ylabel('Loss')\n",
        "plt.legend()\n",
        "plt.show()"
      ],
      "execution_count": 28,
      "outputs": [
        {
          "output_type": "display_data",
          "data": {
            "image/png": "[encoded data removed]",
            "text/plain": [
              "<Figure size 432x288 with 1 Axes>"
            ]
          },
          "metadata": {
            "tags": [],
            "needs_background": "light"
          }
        }
      ]
    },
    {
      "cell_type": "code",
      "metadata": {
        "colab": {
          "base_uri": "https://localhost:8080/"
        },
        "id": "33ir4T48FVnK",
        "outputId": "0bb144bd-cc36-4807-e63d-e075044b3010"
      },
      "source": [
        "model = models.Sequential()\n",
        "model.add(layers.Dense(64, activation='relu', input_shape=(10000,)))\n",
        "model.add(layers.Dense(64, activation='relu'))\n",
        "model.add(layers.Dense(46, activation='softmax'))\n",
        "model.compile(optimizer='rmsprop',\n",
        "loss='categorical_crossentropy',\n",
        "metrics=['accuracy'])\n",
        "model.fit(partial_x_train,\n",
        "partial_y_train,\n",
        "epochs=9,\n",
        "batch_size=512,\n",
        "validation_data=(x_val, y_val))\n",
        "results = model.evaluate(x_test, one_hot_test_labels)"
      ],
      "execution_count": 29,
      "outputs": [
        {
          "output_type": "stream",
          "text": [
            "Epoch 1/9\n",
            "16/16 [==============================] - 2s 47ms/step - loss: 3.0515 - accuracy: 0.4306 - val_loss: 1.7291 - val_accuracy: 0.6460\n",
            "Epoch 2/9\n",
            "16/16 [==============================] - 1s 33ms/step - loss: 1.4829 - accuracy: 0.7079 - val_loss: 1.3240 - val_accuracy: 0.7210\n",
            "Epoch 3/9\n",
            "16/16 [==============================] - 0s 30ms/step - loss: 1.0737 - accuracy: 0.7716 - val_loss: 1.1414 - val_accuracy: 0.7550\n",
            "Epoch 4/9\n",
            "16/16 [==============================] - 0s 31ms/step - loss: 0.8475 - accuracy: 0.8190 - val_loss: 1.0549 - val_accuracy: 0.7620\n",
            "Epoch 5/9\n",
            "16/16 [==============================] - 0s 31ms/step - loss: 0.6869 - accuracy: 0.8536 - val_loss: 0.9705 - val_accuracy: 0.7950\n",
            "Epoch 6/9\n",
            "16/16 [==============================] - 1s 31ms/step - loss: 0.5408 - accuracy: 0.8875 - val_loss: 0.9330 - val_accuracy: 0.7980\n",
            "Epoch 7/9\n",
            "16/16 [==============================] - 0s 31ms/step - loss: 0.4375 - accuracy: 0.9071 - val_loss: 0.9035 - val_accuracy: 0.8120\n",
            "Epoch 8/9\n",
            "16/16 [==============================] - 1s 31ms/step - loss: 0.3508 - accuracy: 0.9241 - val_loss: 0.8925 - val_accuracy: 0.8130\n",
            "Epoch 9/9\n",
            "16/16 [==============================] - 0s 30ms/step - loss: 0.2818 - accuracy: 0.9424 - val_loss: 0.8953 - val_accuracy: 0.8200\n",
            "71/71 [==============================] - 0s 2ms/step - loss: 0.9669 - accuracy: 0.7850\n"
          ],
          "name": "stdout"
        }
      ]
    },
    {
      "cell_type": "code",
      "metadata": {
        "colab": {
          "base_uri": "https://localhost:8080/"
        },
        "id": "a7gaE3H_JZ4H",
        "outputId": "e91899d4-22eb-4bd3-8ecc-15933ae74c2c"
      },
      "source": [
        "results"
      ],
      "execution_count": 30,
      "outputs": [
        {
          "output_type": "execute_result",
          "data": {
            "text/plain": [
              "[0.9669235944747925, 0.7849510312080383]"
            ]
          },
          "metadata": {
            "tags": []
          },
          "execution_count": 30
        }
      ]
    },
    {
      "cell_type": "code",
      "metadata": {
        "id": "_IGaLNEsJd-f"
      },
      "source": [
        "predictions = model.predict(x_test)"
      ],
      "execution_count": 31,
      "outputs": []
    },
    {
      "cell_type": "code",
      "metadata": {
        "colab": {
          "base_uri": "https://localhost:8080/"
        },
        "id": "I6dlBYUPJmr0",
        "outputId": "ea7a0a6e-648c-4603-97a5-58b2c8fcfef5"
      },
      "source": [
        "predictions[0].shape"
      ],
      "execution_count": 32,
      "outputs": [
        {
          "output_type": "execute_result",
          "data": {
            "text/plain": [
              "(46,)"
            ]
          },
          "metadata": {
            "tags": []
          },
          "execution_count": 32
        }
      ]
    },
    {
      "cell_type": "code",
      "metadata": {
        "colab": {
          "base_uri": "https://localhost:8080/"
        },
        "id": "_5-xMG8iJoGs",
        "outputId": "62ab71e6-9ff3-4acf-9dbb-6592744bc05a"
      },
      "source": [
        "np.sum(predictions[0])"
      ],
      "execution_count": 33,
      "outputs": [
        {
          "output_type": "execute_result",
          "data": {
            "text/plain": [
              "1.0000001"
            ]
          },
          "metadata": {
            "tags": []
          },
          "execution_count": 33
        }
      ]
    },
    {
      "cell_type": "code",
      "metadata": {
        "id": "a4_yU-SgJpj-"
      },
      "source": [
        ""
      ],
      "execution_count": null,
      "outputs": []
    }
  ]
}